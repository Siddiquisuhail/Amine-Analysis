{
 "cells": [
  {
   "cell_type": "markdown",
   "metadata": {},
   "source": [
    "#### **In this project we are going to analyse the anime data availble on Kaggle.com.** \n",
    "\n",
    "##### Let us try to find some trends in the data & see if we can develop something meaningfull out of this.\n",
    "\n",
    "##### This data is available on [here](https://www.kaggle.com/datasets/lorentzyeung/all-japanese-anime-titles-in-imdb)."
   ]
  },
  {
   "cell_type": "markdown",
   "metadata": {},
   "source": [
    "##### STEP 1 - Import the relevant libraries."
   ]
  },
  {
   "cell_type": "code",
   "execution_count": 42,
   "metadata": {},
   "outputs": [],
   "source": [
    "import pandas as pd \n",
    "import numpy as np \n",
    "import matplotlib.pyplot as plt \n",
    "import seaborn as sns \n",
    "# sns.set_style()\n",
    "# matplotlib.style.use('ggplot')\n",
    "sns.set()"
   ]
  },
  {
   "cell_type": "code",
   "execution_count": 41,
   "metadata": {},
   "outputs": [
    {
     "data": {
      "text/plain": [
       "['Solarize_Light2',\n",
       " '_classic_test_patch',\n",
       " '_mpl-gallery',\n",
       " '_mpl-gallery-nogrid',\n",
       " 'bmh',\n",
       " 'classic',\n",
       " 'dark_background',\n",
       " 'fast',\n",
       " 'fivethirtyeight',\n",
       " 'ggplot',\n",
       " 'grayscale',\n",
       " 'seaborn-v0_8',\n",
       " 'seaborn-v0_8-bright',\n",
       " 'seaborn-v0_8-colorblind',\n",
       " 'seaborn-v0_8-dark',\n",
       " 'seaborn-v0_8-dark-palette',\n",
       " 'seaborn-v0_8-darkgrid',\n",
       " 'seaborn-v0_8-deep',\n",
       " 'seaborn-v0_8-muted',\n",
       " 'seaborn-v0_8-notebook',\n",
       " 'seaborn-v0_8-paper',\n",
       " 'seaborn-v0_8-pastel',\n",
       " 'seaborn-v0_8-poster',\n",
       " 'seaborn-v0_8-talk',\n",
       " 'seaborn-v0_8-ticks',\n",
       " 'seaborn-v0_8-white',\n",
       " 'seaborn-v0_8-whitegrid',\n",
       " 'tableau-colorblind10']"
      ]
     },
     "execution_count": 41,
     "metadata": {},
     "output_type": "execute_result"
    }
   ],
   "source": [
    "plt.style.available"
   ]
  },
  {
   "cell_type": "markdown",
   "metadata": {},
   "source": [
    "##### STEP 2 - Extract the rar file and read the data using Pandas DataFrame."
   ]
  },
  {
   "cell_type": "code",
   "execution_count": 28,
   "metadata": {},
   "outputs": [],
   "source": [
    "# import patoolib\n",
    "\n",
    "# patoolib.extract_archive('data/anime_data.zip', outdir='data')"
   ]
  },
  {
   "cell_type": "code",
   "execution_count": 29,
   "metadata": {},
   "outputs": [],
   "source": [
    "rdata = pd.read_csv('data/imdb_anime.csv')"
   ]
  },
  {
   "cell_type": "markdown",
   "metadata": {},
   "source": [
    "##### STEP 3 - DATA EXPLORATION."
   ]
  },
  {
   "cell_type": "code",
   "execution_count": 30,
   "metadata": {},
   "outputs": [
    {
     "name": "stdout",
     "output_type": "stream",
     "text": [
      "<class 'pandas.core.frame.DataFrame'>\n",
      "RangeIndex: 45717 entries, 0 to 45716\n",
      "Data columns (total 13 columns):\n",
      " #   Column           Non-Null Count  Dtype \n",
      "---  ------           --------------  ----- \n",
      " 0   Title            45717 non-null  object\n",
      " 1   Genre            45717 non-null  object\n",
      " 2   User Rating      25009 non-null  object\n",
      " 3   Number of Votes  25009 non-null  object\n",
      " 4   Runtime          32549 non-null  object\n",
      " 5   Year             45591 non-null  object\n",
      " 6   Summary          23547 non-null  object\n",
      " 7   Stars            13676 non-null  object\n",
      " 8   Certificate      28694 non-null  object\n",
      " 9   Metascore        341 non-null    object\n",
      " 10  Gross            25009 non-null  object\n",
      " 11  Episode          45717 non-null  object\n",
      " 12  Episode Title    34910 non-null  object\n",
      "dtypes: object(13)\n",
      "memory usage: 4.5+ MB\n"
     ]
    }
   ],
   "source": [
    "rdata.info()"
   ]
  },
  {
   "cell_type": "markdown",
   "metadata": {},
   "source": [
    "#### This code below can be used to optimise the datatypes. This step is crutial when you are dealing with large datasets, as it will make a huge impact on the performance of the code and conserving valuable space. \n",
    "\n",
    "#### You can reuse this function for any dataframe."
   ]
  },
  {
   "cell_type": "code",
   "execution_count": 31,
   "metadata": {},
   "outputs": [],
   "source": [
    "def reduce_mem_usage(df):\n",
    "    start_mem = df.memory_usage().sum() / 1024**3\n",
    "    print('Memory usage of dataframe is {:.2f} MB'.format(start_mem))\n",
    "    \n",
    "    for col in df.columns:\n",
    "        col_type = df[col].dtype\n",
    "        \n",
    "        if col_type != object:\n",
    "            c_min = df[col].min()\n",
    "            c_max = df[col].max()\n",
    "            if str(col_type)[:3] == 'int':\n",
    "                if c_min > np.iinfo(np.int8).min and c_max < np.iinfo(np.int8).max:\n",
    "                    df[col] = df[col].astype(np.int8)\n",
    "                elif c_min > np.iinfo(np.int16).min and c_max < np.iinfo(np.int16).max:\n",
    "                    df[col] = df[col].astype(np.int16)\n",
    "                elif c_min > np.iinfo(np.int32).min and c_max < np.iinfo(np.int32).max:\n",
    "                    df[col] = df[col].astype(np.int32)\n",
    "                elif c_min > np.iinfo(np.int64).min and c_max < np.iinfo(np.int64).max:\n",
    "                    df[col] = df[col].astype(np.int64)  \n",
    "            else:\n",
    "                if c_min > np.finfo(np.float16).min and c_max < np.finfo(np.float16).max:\n",
    "                    df[col] = df[col].astype(np.float16)\n",
    "                elif c_min > np.finfo(np.float32).min and c_max < np.finfo(np.float32).max:\n",
    "                    df[col] = df[col].astype(np.float32)\n",
    "                else:\n",
    "                    df[col] = df[col].astype(np.float64)\n",
    "        else:\n",
    "            df[col] = df[col].astype('category')\n",
    "\n",
    "    end_mem = df.memory_usage().sum() / 1024**3\n",
    "    print('Memory usage after optimization is: {:.2f} MB'.format(end_mem))\n",
    "    print('Decreased by {:.1f}%'.format(100 * (start_mem - end_mem) / start_mem))\n",
    "    \n",
    "    return df"
   ]
  },
  {
   "cell_type": "code",
   "execution_count": 32,
   "metadata": {},
   "outputs": [
    {
     "name": "stdout",
     "output_type": "stream",
     "text": [
      "Memory usage of dataframe is 0.00 MB\n",
      "Memory usage after optimization is: 0.00 MB\n",
      "Decreased by 15.5%\n"
     ]
    }
   ],
   "source": [
    "rdata = reduce_mem_usage(rdata)"
   ]
  },
  {
   "cell_type": "code",
   "execution_count": 33,
   "metadata": {},
   "outputs": [
    {
     "data": {
      "text/html": [
       "<div>\n",
       "<style scoped>\n",
       "    .dataframe tbody tr th:only-of-type {\n",
       "        vertical-align: middle;\n",
       "    }\n",
       "\n",
       "    .dataframe tbody tr th {\n",
       "        vertical-align: top;\n",
       "    }\n",
       "\n",
       "    .dataframe thead th {\n",
       "        text-align: right;\n",
       "    }\n",
       "</style>\n",
       "<table border=\"1\" class=\"dataframe\">\n",
       "  <thead>\n",
       "    <tr style=\"text-align: right;\">\n",
       "      <th></th>\n",
       "      <th>Title</th>\n",
       "      <th>Genre</th>\n",
       "      <th>User Rating</th>\n",
       "      <th>Number of Votes</th>\n",
       "      <th>Runtime</th>\n",
       "      <th>Year</th>\n",
       "      <th>Summary</th>\n",
       "      <th>Stars</th>\n",
       "      <th>Certificate</th>\n",
       "      <th>Metascore</th>\n",
       "      <th>Gross</th>\n",
       "      <th>Episode</th>\n",
       "      <th>Episode Title</th>\n",
       "    </tr>\n",
       "  </thead>\n",
       "  <tbody>\n",
       "    <tr>\n",
       "      <th>0</th>\n",
       "      <td>One Piece</td>\n",
       "      <td>Animation, Action, Adventure</td>\n",
       "      <td>8.9</td>\n",
       "      <td>187,689</td>\n",
       "      <td>24 min</td>\n",
       "      <td>(1999– )</td>\n",
       "      <td>Follows the adventures of Monkey D. Luffy and ...</td>\n",
       "      <td>Mayumi Tanaka,Laurent Vernin,Akemi Okamura,Ton...</td>\n",
       "      <td>TV-14</td>\n",
       "      <td>NaN</td>\n",
       "      <td>187689</td>\n",
       "      <td>0</td>\n",
       "      <td>NaN</td>\n",
       "    </tr>\n",
       "    <tr>\n",
       "      <th>1</th>\n",
       "      <td>Teenage Mutant Ninja Turtles: Mutant Mayhem</td>\n",
       "      <td>Animation, Action, Adventure</td>\n",
       "      <td>7.4</td>\n",
       "      <td>28,895</td>\n",
       "      <td>99 min</td>\n",
       "      <td>(2023)</td>\n",
       "      <td>The film follows the Turtle brothers as they w...</td>\n",
       "      <td>NaN</td>\n",
       "      <td>PG</td>\n",
       "      <td>74</td>\n",
       "      <td>28895</td>\n",
       "      <td>0</td>\n",
       "      <td>NaN</td>\n",
       "    </tr>\n",
       "    <tr>\n",
       "      <th>2</th>\n",
       "      <td>The Super Mario Bros. Movie</td>\n",
       "      <td>Animation, Adventure, Comedy</td>\n",
       "      <td>7.1</td>\n",
       "      <td>189,108</td>\n",
       "      <td>92 min</td>\n",
       "      <td>(2023)</td>\n",
       "      <td>A plumber named Mario travels through an under...</td>\n",
       "      <td>NaN</td>\n",
       "      <td>PG</td>\n",
       "      <td>46</td>\n",
       "      <td>189108</td>\n",
       "      <td>0</td>\n",
       "      <td>NaN</td>\n",
       "    </tr>\n",
       "    <tr>\n",
       "      <th>3</th>\n",
       "      <td>Attack on Titan</td>\n",
       "      <td>Animation, Action, Adventure</td>\n",
       "      <td>9.1</td>\n",
       "      <td>434,457</td>\n",
       "      <td>24 min</td>\n",
       "      <td>(2013–2023)</td>\n",
       "      <td>After his hometown is destroyed and his mother...</td>\n",
       "      <td>Josh Grelle,Bryce Papenbrook,Yûki Kaji,Yui Ish...</td>\n",
       "      <td>TV-MA</td>\n",
       "      <td>NaN</td>\n",
       "      <td>434457</td>\n",
       "      <td>0</td>\n",
       "      <td>NaN</td>\n",
       "    </tr>\n",
       "    <tr>\n",
       "      <th>4</th>\n",
       "      <td>Jujutsu Kaisen</td>\n",
       "      <td>Animation, Action, Adventure</td>\n",
       "      <td>8.5</td>\n",
       "      <td>82,909</td>\n",
       "      <td>24 min</td>\n",
       "      <td>(2020– )</td>\n",
       "      <td>A boy swallows a cursed talisman - the finger ...</td>\n",
       "      <td>Junya Enoki,Yûichi Nakamura,Adam McArthur,Yuma...</td>\n",
       "      <td>TV-MA</td>\n",
       "      <td>NaN</td>\n",
       "      <td>82909</td>\n",
       "      <td>0</td>\n",
       "      <td>NaN</td>\n",
       "    </tr>\n",
       "  </tbody>\n",
       "</table>\n",
       "</div>"
      ],
      "text/plain": [
       "                                         Title                         Genre  \\\n",
       "0                                    One Piece  Animation, Action, Adventure   \n",
       "1  Teenage Mutant Ninja Turtles: Mutant Mayhem  Animation, Action, Adventure   \n",
       "2                  The Super Mario Bros. Movie  Animation, Adventure, Comedy   \n",
       "3                              Attack on Titan  Animation, Action, Adventure   \n",
       "4                               Jujutsu Kaisen  Animation, Action, Adventure   \n",
       "\n",
       "  User Rating Number of Votes Runtime         Year  \\\n",
       "0         8.9         187,689  24 min     (1999– )   \n",
       "1         7.4          28,895  99 min       (2023)   \n",
       "2         7.1         189,108  92 min       (2023)   \n",
       "3         9.1         434,457  24 min  (2013–2023)   \n",
       "4         8.5          82,909  24 min     (2020– )   \n",
       "\n",
       "                                             Summary  \\\n",
       "0  Follows the adventures of Monkey D. Luffy and ...   \n",
       "1  The film follows the Turtle brothers as they w...   \n",
       "2  A plumber named Mario travels through an under...   \n",
       "3  After his hometown is destroyed and his mother...   \n",
       "4  A boy swallows a cursed talisman - the finger ...   \n",
       "\n",
       "                                               Stars Certificate   Metascore  \\\n",
       "0  Mayumi Tanaka,Laurent Vernin,Akemi Okamura,Ton...       TV-14         NaN   \n",
       "1                                                NaN          PG  74           \n",
       "2                                                NaN          PG  46           \n",
       "3  Josh Grelle,Bryce Papenbrook,Yûki Kaji,Yui Ish...       TV-MA         NaN   \n",
       "4  Junya Enoki,Yûichi Nakamura,Adam McArthur,Yuma...       TV-MA         NaN   \n",
       "\n",
       "    Gross Episode Episode Title  \n",
       "0  187689       0           NaN  \n",
       "1   28895       0           NaN  \n",
       "2  189108       0           NaN  \n",
       "3  434457       0           NaN  \n",
       "4   82909       0           NaN  "
      ]
     },
     "execution_count": 33,
     "metadata": {},
     "output_type": "execute_result"
    }
   ],
   "source": [
    "rdata.head()"
   ]
  },
  {
   "cell_type": "code",
   "execution_count": 34,
   "metadata": {},
   "outputs": [
    {
     "data": {
      "text/html": [
       "<div>\n",
       "<style scoped>\n",
       "    .dataframe tbody tr th:only-of-type {\n",
       "        vertical-align: middle;\n",
       "    }\n",
       "\n",
       "    .dataframe tbody tr th {\n",
       "        vertical-align: top;\n",
       "    }\n",
       "\n",
       "    .dataframe thead th {\n",
       "        text-align: right;\n",
       "    }\n",
       "</style>\n",
       "<table border=\"1\" class=\"dataframe\">\n",
       "  <thead>\n",
       "    <tr style=\"text-align: right;\">\n",
       "      <th></th>\n",
       "      <th>Title</th>\n",
       "      <th>Genre</th>\n",
       "      <th>User Rating</th>\n",
       "      <th>Number of Votes</th>\n",
       "      <th>Runtime</th>\n",
       "      <th>Year</th>\n",
       "      <th>Summary</th>\n",
       "      <th>Stars</th>\n",
       "      <th>Certificate</th>\n",
       "      <th>Metascore</th>\n",
       "      <th>Gross</th>\n",
       "      <th>Episode</th>\n",
       "      <th>Episode Title</th>\n",
       "    </tr>\n",
       "  </thead>\n",
       "  <tbody>\n",
       "    <tr>\n",
       "      <th>count</th>\n",
       "      <td>45717</td>\n",
       "      <td>45717</td>\n",
       "      <td>25009</td>\n",
       "      <td>25009</td>\n",
       "      <td>32549</td>\n",
       "      <td>45591</td>\n",
       "      <td>23547</td>\n",
       "      <td>13676</td>\n",
       "      <td>28694</td>\n",
       "      <td>341</td>\n",
       "      <td>25009</td>\n",
       "      <td>45717</td>\n",
       "      <td>34910</td>\n",
       "    </tr>\n",
       "    <tr>\n",
       "      <th>unique</th>\n",
       "      <td>9851</td>\n",
       "      <td>201</td>\n",
       "      <td>87</td>\n",
       "      <td>3033</td>\n",
       "      <td>196</td>\n",
       "      <td>740</td>\n",
       "      <td>22588</td>\n",
       "      <td>6460</td>\n",
       "      <td>33</td>\n",
       "      <td>60</td>\n",
       "      <td>3033</td>\n",
       "      <td>3</td>\n",
       "      <td>33779</td>\n",
       "    </tr>\n",
       "    <tr>\n",
       "      <th>top</th>\n",
       "      <td>Doraemon</td>\n",
       "      <td>Animation, Action, Adventure</td>\n",
       "      <td>7.6</td>\n",
       "      <td>7</td>\n",
       "      <td>24 min</td>\n",
       "      <td>(1969– )</td>\n",
       "      <td>A young teen who surfs the skies with his ref ...</td>\n",
       "      <td>Nobuyo Ôyama,Noriko Ohara,Michiko Nomura,Kazuy...</td>\n",
       "      <td>TV-14</td>\n",
       "      <td>74</td>\n",
       "      <td>7</td>\n",
       "      <td>1</td>\n",
       "      <td>Episode #1.2</td>\n",
       "    </tr>\n",
       "    <tr>\n",
       "      <th>freq</th>\n",
       "      <td>2758</td>\n",
       "      <td>13568</td>\n",
       "      <td>1270</td>\n",
       "      <td>567</td>\n",
       "      <td>9636</td>\n",
       "      <td>2399</td>\n",
       "      <td>25</td>\n",
       "      <td>765</td>\n",
       "      <td>10033</td>\n",
       "      <td>21</td>\n",
       "      <td>567</td>\n",
       "      <td>34909</td>\n",
       "      <td>12</td>\n",
       "    </tr>\n",
       "  </tbody>\n",
       "</table>\n",
       "</div>"
      ],
      "text/plain": [
       "           Title                         Genre User Rating Number of Votes  \\\n",
       "count      45717                         45717       25009           25009   \n",
       "unique      9851                           201          87            3033   \n",
       "top     Doraemon  Animation, Action, Adventure         7.6               7   \n",
       "freq        2758                         13568        1270             567   \n",
       "\n",
       "       Runtime      Year                                            Summary  \\\n",
       "count    32549     45591                                              23547   \n",
       "unique     196       740                                              22588   \n",
       "top     24 min  (1969– )  A young teen who surfs the skies with his ref ...   \n",
       "freq      9636      2399                                                 25   \n",
       "\n",
       "                                                    Stars Certificate  \\\n",
       "count                                               13676       28694   \n",
       "unique                                               6460          33   \n",
       "top     Nobuyo Ôyama,Noriko Ohara,Michiko Nomura,Kazuy...       TV-14   \n",
       "freq                                                  765       10033   \n",
       "\n",
       "         Metascore  Gross Episode Episode Title  \n",
       "count          341  25009   45717         34910  \n",
       "unique          60   3033       3         33779  \n",
       "top     74              7       1  Episode #1.2  \n",
       "freq            21    567   34909            12  "
      ]
     },
     "execution_count": 34,
     "metadata": {},
     "output_type": "execute_result"
    }
   ],
   "source": [
    "rdata.describe()"
   ]
  },
  {
   "cell_type": "code",
   "execution_count": 35,
   "metadata": {},
   "outputs": [],
   "source": [
    "d1 = rdata.copy()"
   ]
  },
  {
   "cell_type": "code",
   "execution_count": 36,
   "metadata": {},
   "outputs": [
    {
     "data": {
      "text/plain": [
       "array([3, 2, 1])"
      ]
     },
     "execution_count": 36,
     "metadata": {},
     "output_type": "execute_result"
    }
   ],
   "source": [
    "# d1.groupby(['Genre'])['Title'].count().plot(kind='bar')\n",
    "def gen_len(df):\n",
    "    return len(df.split(','))\n",
    "d1['Genre'].apply(gen_len).unique()"
   ]
  },
  {
   "cell_type": "code",
   "execution_count": 37,
   "metadata": {},
   "outputs": [],
   "source": [
    "d1['Genre'] = d1['Genre'].str.split(',')"
   ]
  },
  {
   "cell_type": "code",
   "execution_count": 38,
   "metadata": {},
   "outputs": [
    {
     "data": {
      "text/html": [
       "<div>\n",
       "<style scoped>\n",
       "    .dataframe tbody tr th:only-of-type {\n",
       "        vertical-align: middle;\n",
       "    }\n",
       "\n",
       "    .dataframe tbody tr th {\n",
       "        vertical-align: top;\n",
       "    }\n",
       "\n",
       "    .dataframe thead th {\n",
       "        text-align: right;\n",
       "    }\n",
       "</style>\n",
       "<table border=\"1\" class=\"dataframe\">\n",
       "  <thead>\n",
       "    <tr style=\"text-align: right;\">\n",
       "      <th></th>\n",
       "      <th>Title</th>\n",
       "      <th>Genre</th>\n",
       "      <th>User Rating</th>\n",
       "      <th>Number of Votes</th>\n",
       "      <th>Runtime</th>\n",
       "      <th>Year</th>\n",
       "      <th>Summary</th>\n",
       "      <th>Stars</th>\n",
       "      <th>Certificate</th>\n",
       "      <th>Metascore</th>\n",
       "      <th>Gross</th>\n",
       "      <th>Episode</th>\n",
       "      <th>Episode Title</th>\n",
       "    </tr>\n",
       "  </thead>\n",
       "  <tbody>\n",
       "    <tr>\n",
       "      <th>0</th>\n",
       "      <td>One Piece</td>\n",
       "      <td>[Animation,  Action,  Adventure]</td>\n",
       "      <td>8.9</td>\n",
       "      <td>187,689</td>\n",
       "      <td>24 min</td>\n",
       "      <td>(1999– )</td>\n",
       "      <td>Follows the adventures of Monkey D. Luffy and ...</td>\n",
       "      <td>Mayumi Tanaka,Laurent Vernin,Akemi Okamura,Ton...</td>\n",
       "      <td>TV-14</td>\n",
       "      <td>NaN</td>\n",
       "      <td>187689</td>\n",
       "      <td>0</td>\n",
       "      <td>NaN</td>\n",
       "    </tr>\n",
       "    <tr>\n",
       "      <th>1</th>\n",
       "      <td>Teenage Mutant Ninja Turtles: Mutant Mayhem</td>\n",
       "      <td>[Animation,  Action,  Adventure]</td>\n",
       "      <td>7.4</td>\n",
       "      <td>28,895</td>\n",
       "      <td>99 min</td>\n",
       "      <td>(2023)</td>\n",
       "      <td>The film follows the Turtle brothers as they w...</td>\n",
       "      <td>NaN</td>\n",
       "      <td>PG</td>\n",
       "      <td>74</td>\n",
       "      <td>28895</td>\n",
       "      <td>0</td>\n",
       "      <td>NaN</td>\n",
       "    </tr>\n",
       "    <tr>\n",
       "      <th>2</th>\n",
       "      <td>The Super Mario Bros. Movie</td>\n",
       "      <td>[Animation,  Adventure,  Comedy]</td>\n",
       "      <td>7.1</td>\n",
       "      <td>189,108</td>\n",
       "      <td>92 min</td>\n",
       "      <td>(2023)</td>\n",
       "      <td>A plumber named Mario travels through an under...</td>\n",
       "      <td>NaN</td>\n",
       "      <td>PG</td>\n",
       "      <td>46</td>\n",
       "      <td>189108</td>\n",
       "      <td>0</td>\n",
       "      <td>NaN</td>\n",
       "    </tr>\n",
       "    <tr>\n",
       "      <th>3</th>\n",
       "      <td>Attack on Titan</td>\n",
       "      <td>[Animation,  Action,  Adventure]</td>\n",
       "      <td>9.1</td>\n",
       "      <td>434,457</td>\n",
       "      <td>24 min</td>\n",
       "      <td>(2013–2023)</td>\n",
       "      <td>After his hometown is destroyed and his mother...</td>\n",
       "      <td>Josh Grelle,Bryce Papenbrook,Yûki Kaji,Yui Ish...</td>\n",
       "      <td>TV-MA</td>\n",
       "      <td>NaN</td>\n",
       "      <td>434457</td>\n",
       "      <td>0</td>\n",
       "      <td>NaN</td>\n",
       "    </tr>\n",
       "    <tr>\n",
       "      <th>4</th>\n",
       "      <td>Jujutsu Kaisen</td>\n",
       "      <td>[Animation,  Action,  Adventure]</td>\n",
       "      <td>8.5</td>\n",
       "      <td>82,909</td>\n",
       "      <td>24 min</td>\n",
       "      <td>(2020– )</td>\n",
       "      <td>A boy swallows a cursed talisman - the finger ...</td>\n",
       "      <td>Junya Enoki,Yûichi Nakamura,Adam McArthur,Yuma...</td>\n",
       "      <td>TV-MA</td>\n",
       "      <td>NaN</td>\n",
       "      <td>82909</td>\n",
       "      <td>0</td>\n",
       "      <td>NaN</td>\n",
       "    </tr>\n",
       "  </tbody>\n",
       "</table>\n",
       "</div>"
      ],
      "text/plain": [
       "                                         Title  \\\n",
       "0                                    One Piece   \n",
       "1  Teenage Mutant Ninja Turtles: Mutant Mayhem   \n",
       "2                  The Super Mario Bros. Movie   \n",
       "3                              Attack on Titan   \n",
       "4                               Jujutsu Kaisen   \n",
       "\n",
       "                              Genre User Rating Number of Votes Runtime  \\\n",
       "0  [Animation,  Action,  Adventure]         8.9         187,689  24 min   \n",
       "1  [Animation,  Action,  Adventure]         7.4          28,895  99 min   \n",
       "2  [Animation,  Adventure,  Comedy]         7.1         189,108  92 min   \n",
       "3  [Animation,  Action,  Adventure]         9.1         434,457  24 min   \n",
       "4  [Animation,  Action,  Adventure]         8.5          82,909  24 min   \n",
       "\n",
       "          Year                                            Summary  \\\n",
       "0     (1999– )  Follows the adventures of Monkey D. Luffy and ...   \n",
       "1       (2023)  The film follows the Turtle brothers as they w...   \n",
       "2       (2023)  A plumber named Mario travels through an under...   \n",
       "3  (2013–2023)  After his hometown is destroyed and his mother...   \n",
       "4     (2020– )  A boy swallows a cursed talisman - the finger ...   \n",
       "\n",
       "                                               Stars Certificate   Metascore  \\\n",
       "0  Mayumi Tanaka,Laurent Vernin,Akemi Okamura,Ton...       TV-14         NaN   \n",
       "1                                                NaN          PG  74           \n",
       "2                                                NaN          PG  46           \n",
       "3  Josh Grelle,Bryce Papenbrook,Yûki Kaji,Yui Ish...       TV-MA         NaN   \n",
       "4  Junya Enoki,Yûichi Nakamura,Adam McArthur,Yuma...       TV-MA         NaN   \n",
       "\n",
       "    Gross Episode Episode Title  \n",
       "0  187689       0           NaN  \n",
       "1   28895       0           NaN  \n",
       "2  189108       0           NaN  \n",
       "3  434457       0           NaN  \n",
       "4   82909       0           NaN  "
      ]
     },
     "execution_count": 38,
     "metadata": {},
     "output_type": "execute_result"
    }
   ],
   "source": [
    "d1.head()"
   ]
  },
  {
   "cell_type": "code",
   "execution_count": 43,
   "metadata": {},
   "outputs": [
    {
     "data": {
      "text/plain": [
       "<Axes: title={'center': 'No of Animes in each Genre.'}, xlabel='Genre'>"
      ]
     },
     "execution_count": 43,
     "metadata": {},
     "output_type": "execute_result"
    },
    {
     "data": {
      "image/png": "[encoded data removed]",
      "text/plain": [
       "<Figure size 640x480 with 1 Axes>"
      ]
     },
     "metadata": {},
     "output_type": "display_data"
    }
   ],
   "source": [
    "d1['Genre'].explode().value_counts().plot(kind='bar', title='No of Animes in each Genre.')"
   ]
  },
  {
   "cell_type": "code",
   "execution_count": 44,
   "metadata": {},
   "outputs": [
    {
     "data": {
      "text/plain": [
       "<Axes: title={'center': 'Top 10 Genres of Japanese Animes.'}, xlabel='Genre'>"
      ]
     },
     "execution_count": 44,
     "metadata": {},
     "output_type": "execute_result"
    },
    {
     "data": {
      "image/png": "[encoded data removed]",
      "text/plain": [
       "<Figure size 640x480 with 1 Axes>"
      ]
     },
     "metadata": {},
     "output_type": "display_data"
    }
   ],
   "source": [
    "d1['Genre'].explode().value_counts().nlargest(10).plot(kind='bar', title='Top 10 Genres of Japanese Animes.')"
   ]
  },
  {
   "cell_type": "code",
   "execution_count": 51,
   "metadata": {},
   "outputs": [],
   "source": [
    "d2 = d1.explode('Genre')\n",
    "# d2['User Rating'] = d2['User Rating'].astype('float')"
   ]
  },
  {
   "cell_type": "code",
   "execution_count": 52,
   "metadata": {},
   "outputs": [],
   "source": [
    "d2['User Rating'] = pd.to_numeric(d2['User Rating'], errors='coerce')\n",
    "non_numeric_rows = d2[d2['User Rating'].isna()]\n",
    "d2 = d2.dropna(subset=['User Rating'])\n",
    "d2['User Rating'].fillna(0.0, inplace=True)\n",
    "d2['User Rating'] = d2['User Rating'].astype('float')\n",
    "\n",
    "\n"
   ]
  },
  {
   "cell_type": "code",
   "execution_count": 58,
   "metadata": {},
   "outputs": [
    {
     "data": {
      "text/plain": [
       "<Axes: xlabel='Genre'>"
      ]
     },
     "execution_count": 58,
     "metadata": {},
     "output_type": "execute_result"
    },
    {
     "data": {
      "image/png": "[encoded data removed]",
      "text/plain": [
       "<Figure size 640x480 with 1 Axes>"
      ]
     },
     "metadata": {},
     "output_type": "display_data"
    }
   ],
   "source": [
    "d2.groupby('Genre')['User Rating'].agg('mean').plot(kind='bar')"
   ]
  },
  {
   "cell_type": "code",
   "execution_count": 57,
   "metadata": {},
   "outputs": [
    {
     "data": {
      "text/plain": [
       "<Axes: xlabel='Genre'>"
      ]
     },
     "execution_count": 57,
     "metadata": {},
     "output_type": "execute_result"
    },
    {
     "data": {
      "image/png": "[encoded data removed]",
      "text/plain": [
       "<Figure size 640x480 with 1 Axes>"
      ]
     },
     "metadata": {},
     "output_type": "display_data"
    }
   ],
   "source": [
    "d2.groupby('Genre')['User Rating'].agg('mean').nlargest(5).plot(kind='bar')"
   ]
  },
  {
   "cell_type": "code",
   "execution_count": null,
   "metadata": {},
   "outputs": [],
   "source": [
    "d2.groupby('Genre')['User Rating'].agg('mean').nlargest(5).plot(kind='bar')"
   ]
  }
 ],
 "metadata": {
  "kernelspec": {
   "display_name": "first_env",
   "language": "python",
   "name": "python3"
  },
  "language_info": {
   "codemirror_mode": {
    "name": "ipython",
    "version": 3
   },
   "file_extension": ".py",
   "mimetype": "text/x-python",
   "name": "python",
   "nbconvert_exporter": "python",
   "pygments_lexer": "ipython3",
   "version": "3.10.0"
  },
  "orig_nbformat": 4
 },
 "nbformat": 4,
 "nbformat_minor": 2
}
